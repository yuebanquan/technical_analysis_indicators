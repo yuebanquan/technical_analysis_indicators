{
 "cells": [
  {
   "cell_type": "markdown",
   "source": [
    "# 任务1"
   ],
   "metadata": {
    "collapsed": false
   }
  },
  {
   "cell_type": "markdown",
   "source": [
    "## 一、任务说明\n",
    "\n",
    "### 第一步：\n",
    "对沪深300指数（399300）进行如下操作： 统计结果（手续费万分之五，初始资金100万），交易区间2006-1-4至2021-12-31 。\n",
    "做多： 如果当日收盘价大于240日均线，第二日以开盘价买入； 如果当日收盘价小于240日均线，第二日以开盘价卖出。\n",
    "### 第二步：\n",
    "在第一步的基础上，找最佳长期均线（120--240）。\n",
    "### 第三步：\n",
    "样本内区间2006-1-4至2013-12-31，找最佳长期均线（120--240）；样本外区间2014-1-2至2021-12-31 ，执行该策略。\n",
    "### 第四步：\n",
    "初始样本内区间2006-1-4至2013-12-31，找最佳长期均线（120--240）；样本外区间2014-1-2至2021-12-31 ，按照滑动窗口方式（每次滑动1年）运行，即用过去8年的数据找最佳长期均线，在下1年执行该策略。"
   ],
   "metadata": {
    "collapsed": false
   }
  },
  {
   "cell_type": "markdown",
   "source": [
    "## 二、准备工作\n",
    "读取沪深300指数（399300)数据"
   ],
   "metadata": {
    "collapsed": false
   }
  },
  {
   "cell_type": "code",
   "execution_count": 2,
   "outputs": [],
   "source": [
    "import pandas as pd"
   ],
   "metadata": {
    "collapsed": false
   }
  },
  {
   "cell_type": "code",
   "execution_count": 3,
   "outputs": [],
   "source": [
    "stockDataPath = r\"./StockData.xlsx\"     # 股票数据路径"
   ],
   "metadata": {
    "collapsed": false
   }
  },
  {
   "cell_type": "code",
   "execution_count": 7,
   "outputs": [
    {
     "data": {
      "text/plain": "               Open     High      Low    Close        Vol\nDate                                                     \n2005-01-04   994.76   994.76   980.65   982.79    7412869\n2005-01-05   981.57   997.32   979.87   992.56    7119109\n2005-01-06   993.33   993.78   980.33   983.17    6288028\n2005-01-07   983.04   995.71   979.81   983.95    7298694\n2005-01-10   983.76   993.95   979.78   993.87    5791697\n...             ...      ...      ...      ...        ...\n2021-12-27  4918.15  4939.69  4894.16  4919.32  124100952\n2021-12-28  4923.69  4959.15  4913.60  4955.96  130457760\n2021-12-29  4958.65  4958.65  4883.48  4883.48  113587000\n2021-12-30  4882.16  4940.18  4878.65  4921.51  121617176\n2021-12-31  4937.46  4950.36  4923.14  4940.37  121313736\n\n[4132 rows x 5 columns]",
      "text/html": "<div>\n<style scoped>\n    .dataframe tbody tr th:only-of-type {\n        vertical-align: middle;\n    }\n\n    .dataframe tbody tr th {\n        vertical-align: top;\n    }\n\n    .dataframe thead th {\n        text-align: right;\n    }\n</style>\n<table border=\"1\" class=\"dataframe\">\n  <thead>\n    <tr style=\"text-align: right;\">\n      <th></th>\n      <th>Open</th>\n      <th>High</th>\n      <th>Low</th>\n      <th>Close</th>\n      <th>Vol</th>\n    </tr>\n    <tr>\n      <th>Date</th>\n      <th></th>\n      <th></th>\n      <th></th>\n      <th></th>\n      <th></th>\n    </tr>\n  </thead>\n  <tbody>\n    <tr>\n      <th>2005-01-04</th>\n      <td>994.76</td>\n      <td>994.76</td>\n      <td>980.65</td>\n      <td>982.79</td>\n      <td>7412869</td>\n    </tr>\n    <tr>\n      <th>2005-01-05</th>\n      <td>981.57</td>\n      <td>997.32</td>\n      <td>979.87</td>\n      <td>992.56</td>\n      <td>7119109</td>\n    </tr>\n    <tr>\n      <th>2005-01-06</th>\n      <td>993.33</td>\n      <td>993.78</td>\n      <td>980.33</td>\n      <td>983.17</td>\n      <td>6288028</td>\n    </tr>\n    <tr>\n      <th>2005-01-07</th>\n      <td>983.04</td>\n      <td>995.71</td>\n      <td>979.81</td>\n      <td>983.95</td>\n      <td>7298694</td>\n    </tr>\n    <tr>\n      <th>2005-01-10</th>\n      <td>983.76</td>\n      <td>993.95</td>\n      <td>979.78</td>\n      <td>993.87</td>\n      <td>5791697</td>\n    </tr>\n    <tr>\n      <th>...</th>\n      <td>...</td>\n      <td>...</td>\n      <td>...</td>\n      <td>...</td>\n      <td>...</td>\n    </tr>\n    <tr>\n      <th>2021-12-27</th>\n      <td>4918.15</td>\n      <td>4939.69</td>\n      <td>4894.16</td>\n      <td>4919.32</td>\n      <td>124100952</td>\n    </tr>\n    <tr>\n      <th>2021-12-28</th>\n      <td>4923.69</td>\n      <td>4959.15</td>\n      <td>4913.60</td>\n      <td>4955.96</td>\n      <td>130457760</td>\n    </tr>\n    <tr>\n      <th>2021-12-29</th>\n      <td>4958.65</td>\n      <td>4958.65</td>\n      <td>4883.48</td>\n      <td>4883.48</td>\n      <td>113587000</td>\n    </tr>\n    <tr>\n      <th>2021-12-30</th>\n      <td>4882.16</td>\n      <td>4940.18</td>\n      <td>4878.65</td>\n      <td>4921.51</td>\n      <td>121617176</td>\n    </tr>\n    <tr>\n      <th>2021-12-31</th>\n      <td>4937.46</td>\n      <td>4950.36</td>\n      <td>4923.14</td>\n      <td>4940.37</td>\n      <td>121313736</td>\n    </tr>\n  </tbody>\n</table>\n<p>4132 rows × 5 columns</p>\n</div>"
     },
     "execution_count": 7,
     "metadata": {},
     "output_type": "execute_result"
    }
   ],
   "source": [
    "# 读取沪深300指数的数据，并将日期作为索引\n",
    "stockDataDf = pd.read_excel(stockDataPath, sheet_name=0, index_col='Date', parse_dates=['Date'])\n",
    "stockDataDf"
   ],
   "metadata": {
    "collapsed": false
   }
  },
  {
   "cell_type": "markdown",
   "source": [
    "## 三、第一步\n",
    "对沪深300指数（399300）进行如下操作： 统计结果（手续费万分之五，初始资金100万），交易区间2006-1-4至2021-12-31 。 做多： 如果当日收盘价大于240日均线，第二日以开盘价买入； 如果当日收盘价小于240日均线，第二日以开盘价卖出。"
   ],
   "metadata": {
    "collapsed": false
   }
  },
  {
   "cell_type": "code",
   "execution_count": 8,
   "outputs": [],
   "source": [
    "# 初始数据\n",
    "startDate = '2006-01-04'    # 交易开始日期:2006-01-04\n",
    "endDate = '2021-12-31'      # 交易结束日期:2021-12-31\n",
    "\n",
    "ma = 240                    # 均线取值:240\n",
    "initBalance=1000000         # 初始资金:100万\n",
    "procedureRates = 5 / 10000  # 手续费:万分之五\n",
    "\n",
    "hold = 0                    # 证券持有数量\n",
    "balance = initBalance       # 资金余额"
   ],
   "metadata": {
    "collapsed": false
   }
  },
  {
   "cell_type": "code",
   "execution_count": null,
   "outputs": [],
   "source": [
    "maList"
   ],
   "metadata": {
    "collapsed": false,
    "pycharm": {
     "name": "#%%M'A\n"
    }
   }
  }
 ],
 "metadata": {
  "kernelspec": {
   "display_name": "Python 3",
   "language": "python",
   "name": "python3"
  },
  "language_info": {
   "codemirror_mode": {
    "name": "ipython",
    "version": 2
   },
   "file_extension": ".py",
   "mimetype": "text/x-python",
   "name": "python",
   "nbconvert_exporter": "python",
   "pygments_lexer": "ipython2",
   "version": "2.7.6"
  }
 },
 "nbformat": 4,
 "nbformat_minor": 0
}
