{
 "cells": [
  {
   "cell_type": "markdown",
   "source": [
    "1. 求滑动窗口\n",
    "2. 求训练数据集: train_x, train_y\n",
    "3. 求测试数据集: test_x, test_y\n",
    "4. 训练模型\n",
    "5. 计算误差"
   ],
   "metadata": {
    "collapsed": false
   }
  },
  {
   "cell_type": "code",
   "execution_count": 13,
   "metadata": {
    "collapsed": true
   },
   "outputs": [],
   "source": [
    "import pandas as pd\n",
    "import numpy as np\n",
    "import datetime\n",
    "import dateutil.relativedelta\n",
    "from sklearn.linear_model import LinearRegression\n",
    "from sklearn.model_selection import train_test_split"
   ]
  },
  {
   "cell_type": "code",
   "execution_count": 8,
   "outputs": [],
   "source": [
    "# 数据集路径\n",
    "stockDataFile = r\"./StockData.xlsx\""
   ],
   "metadata": {
    "collapsed": false
   }
  },
  {
   "cell_type": "code",
   "execution_count": 9,
   "outputs": [],
   "source": [
    "# 样本内区间\n",
    "sampleStartDate = datetime.datetime.strptime('2006-1-4', '%Y-%m-%d')\n",
    "sampleEndDate = datetime.datetime.strptime('2013-12-31', '%Y-%m-%d')\n",
    "\n",
    "# 样本外区间\n",
    "backtestStartDate = datetime.datetime.strptime('2014-01-02', '%Y-%m-%d')\n",
    "backtestEndDate = datetime.datetime.strptime('2021-12-31', '%Y-%m-%d')"
   ],
   "metadata": {
    "collapsed": false
   }
  },
  {
   "cell_type": "code",
   "execution_count": 10,
   "outputs": [
    {
     "data": {
      "text/plain": "               Open     High      Low    Close       Vol\nDate                                                    \n2004-01-02   997.00  1021.57   993.89  1011.35   8064652\n2004-01-05  1008.28  1060.90  1008.28  1060.80  14468180\n2004-01-06  1059.14  1086.69  1059.09  1075.66  16991334\n2004-01-07  1075.56  1095.84  1070.98  1086.30  13729419\n2004-01-08  1087.68  1108.29  1082.51  1102.66  10780427",
      "text/html": "<div>\n<style scoped>\n    .dataframe tbody tr th:only-of-type {\n        vertical-align: middle;\n    }\n\n    .dataframe tbody tr th {\n        vertical-align: top;\n    }\n\n    .dataframe thead th {\n        text-align: right;\n    }\n</style>\n<table border=\"1\" class=\"dataframe\">\n  <thead>\n    <tr style=\"text-align: right;\">\n      <th></th>\n      <th>Open</th>\n      <th>High</th>\n      <th>Low</th>\n      <th>Close</th>\n      <th>Vol</th>\n    </tr>\n    <tr>\n      <th>Date</th>\n      <th></th>\n      <th></th>\n      <th></th>\n      <th></th>\n      <th></th>\n    </tr>\n  </thead>\n  <tbody>\n    <tr>\n      <th>2004-01-02</th>\n      <td>997.00</td>\n      <td>1021.57</td>\n      <td>993.89</td>\n      <td>1011.35</td>\n      <td>8064652</td>\n    </tr>\n    <tr>\n      <th>2004-01-05</th>\n      <td>1008.28</td>\n      <td>1060.90</td>\n      <td>1008.28</td>\n      <td>1060.80</td>\n      <td>14468180</td>\n    </tr>\n    <tr>\n      <th>2004-01-06</th>\n      <td>1059.14</td>\n      <td>1086.69</td>\n      <td>1059.09</td>\n      <td>1075.66</td>\n      <td>16991334</td>\n    </tr>\n    <tr>\n      <th>2004-01-07</th>\n      <td>1075.56</td>\n      <td>1095.84</td>\n      <td>1070.98</td>\n      <td>1086.30</td>\n      <td>13729419</td>\n    </tr>\n    <tr>\n      <th>2004-01-08</th>\n      <td>1087.68</td>\n      <td>1108.29</td>\n      <td>1082.51</td>\n      <td>1102.66</td>\n      <td>10780427</td>\n    </tr>\n  </tbody>\n</table>\n</div>"
     },
     "execution_count": 10,
     "metadata": {},
     "output_type": "execute_result"
    }
   ],
   "source": [
    "# 读取数据集\n",
    "df = pd.read_excel(stockDataFile, sheet_name='sz50', index_col='Date', parse_dates=['Date'])\n",
    "df.head()"
   ],
   "metadata": {
    "collapsed": false
   }
  },
  {
   "cell_type": "markdown",
   "source": [],
   "metadata": {
    "collapsed": false
   }
  },
  {
   "cell_type": "code",
   "execution_count": 17,
   "outputs": [],
   "source": [
    "forecastDays = 1  # 预测未来第几天的股价\n",
    "pastDays = 5  # 过去n日作为一组\n",
    "maValue = 30  # MA取值\n",
    "stepMonth = 6  # 滑动窗口步长,月\n",
    "sampleDataSize = 9  # 样本内数据量: 9年"
   ],
   "metadata": {
    "collapsed": false
   }
  },
  {
   "cell_type": "code",
   "execution_count": 45,
   "outputs": [],
   "source": [
    "stockDataDf = df.copy()"
   ],
   "metadata": {
    "collapsed": false
   }
  },
  {
   "cell_type": "code",
   "execution_count": 46,
   "outputs": [
    {
     "data": {
      "text/plain": "               Open     High      Low    Close       Vol           Ma\nDate                                                                 \n2004-01-02   997.00  1021.57   993.89  1011.35   8064652          NaN\n2004-01-05  1008.28  1060.90  1008.28  1060.80  14468180          NaN\n2004-01-06  1059.14  1086.69  1059.09  1075.66  16991334          NaN\n2004-01-07  1075.56  1095.84  1070.98  1086.30  13729419          NaN\n2004-01-08  1087.68  1108.29  1082.51  1102.66  10780427          NaN\n...             ...      ...      ...      ...       ...          ...\n2022-09-26  2612.67  2650.25  2611.53  2614.90  34384532  2721.044667\n2022-09-27  2616.05  2645.74  2605.24  2642.92  26144970  2716.386333\n2022-09-28  2635.26  2637.02  2608.64  2611.98  24732086  2711.143667\n2022-09-29  2633.07  2644.07  2596.96  2608.98  25969016  2705.248000\n2022-09-30  2618.08  2631.78  2604.93  2610.12  23244464  2700.275667\n\n[4557 rows x 6 columns]",
      "text/html": "<div>\n<style scoped>\n    .dataframe tbody tr th:only-of-type {\n        vertical-align: middle;\n    }\n\n    .dataframe tbody tr th {\n        vertical-align: top;\n    }\n\n    .dataframe thead th {\n        text-align: right;\n    }\n</style>\n<table border=\"1\" class=\"dataframe\">\n  <thead>\n    <tr style=\"text-align: right;\">\n      <th></th>\n      <th>Open</th>\n      <th>High</th>\n      <th>Low</th>\n      <th>Close</th>\n      <th>Vol</th>\n      <th>Ma</th>\n    </tr>\n    <tr>\n      <th>Date</th>\n      <th></th>\n      <th></th>\n      <th></th>\n      <th></th>\n      <th></th>\n      <th></th>\n    </tr>\n  </thead>\n  <tbody>\n    <tr>\n      <th>2004-01-02</th>\n      <td>997.00</td>\n      <td>1021.57</td>\n      <td>993.89</td>\n      <td>1011.35</td>\n      <td>8064652</td>\n      <td>NaN</td>\n    </tr>\n    <tr>\n      <th>2004-01-05</th>\n      <td>1008.28</td>\n      <td>1060.90</td>\n      <td>1008.28</td>\n      <td>1060.80</td>\n      <td>14468180</td>\n      <td>NaN</td>\n    </tr>\n    <tr>\n      <th>2004-01-06</th>\n      <td>1059.14</td>\n      <td>1086.69</td>\n      <td>1059.09</td>\n      <td>1075.66</td>\n      <td>16991334</td>\n      <td>NaN</td>\n    </tr>\n    <tr>\n      <th>2004-01-07</th>\n      <td>1075.56</td>\n      <td>1095.84</td>\n      <td>1070.98</td>\n      <td>1086.30</td>\n      <td>13729419</td>\n      <td>NaN</td>\n    </tr>\n    <tr>\n      <th>2004-01-08</th>\n      <td>1087.68</td>\n      <td>1108.29</td>\n      <td>1082.51</td>\n      <td>1102.66</td>\n      <td>10780427</td>\n      <td>NaN</td>\n    </tr>\n    <tr>\n      <th>...</th>\n      <td>...</td>\n      <td>...</td>\n      <td>...</td>\n      <td>...</td>\n      <td>...</td>\n      <td>...</td>\n    </tr>\n    <tr>\n      <th>2022-09-26</th>\n      <td>2612.67</td>\n      <td>2650.25</td>\n      <td>2611.53</td>\n      <td>2614.90</td>\n      <td>34384532</td>\n      <td>2721.044667</td>\n    </tr>\n    <tr>\n      <th>2022-09-27</th>\n      <td>2616.05</td>\n      <td>2645.74</td>\n      <td>2605.24</td>\n      <td>2642.92</td>\n      <td>26144970</td>\n      <td>2716.386333</td>\n    </tr>\n    <tr>\n      <th>2022-09-28</th>\n      <td>2635.26</td>\n      <td>2637.02</td>\n      <td>2608.64</td>\n      <td>2611.98</td>\n      <td>24732086</td>\n      <td>2711.143667</td>\n    </tr>\n    <tr>\n      <th>2022-09-29</th>\n      <td>2633.07</td>\n      <td>2644.07</td>\n      <td>2596.96</td>\n      <td>2608.98</td>\n      <td>25969016</td>\n      <td>2705.248000</td>\n    </tr>\n    <tr>\n      <th>2022-09-30</th>\n      <td>2618.08</td>\n      <td>2631.78</td>\n      <td>2604.93</td>\n      <td>2610.12</td>\n      <td>23244464</td>\n      <td>2700.275667</td>\n    </tr>\n  </tbody>\n</table>\n<p>4557 rows × 6 columns</p>\n</div>"
     },
     "execution_count": 46,
     "metadata": {},
     "output_type": "execute_result"
    }
   ],
   "source": [
    "# 计算MA\n",
    "stockDataDf['Ma'] = df.Close.rolling(maValue).mean()\n",
    "stockDataDf"
   ],
   "metadata": {
    "collapsed": false
   }
  },
  {
   "cell_type": "markdown",
   "source": [
    "### 1. 求滑动窗口"
   ],
   "metadata": {
    "collapsed": false
   }
  },
  {
   "cell_type": "code",
   "execution_count": 47,
   "outputs": [],
   "source": [
    "def getSlidingWindowDf(stockDataDf, sampleDataSize, stepMonth):\n",
    "    \"\"\"\n",
    "    通过样本内数据量, 滑动窗口步长求滑动窗口\n",
    "    :param stockDataDf: 股票数据\n",
    "    :param sampleDataSize: 样本内数据量: 9年\n",
    "    :param stepMonth: 滑动窗口步长,月\n",
    "    :return: 滑动窗口Df\n",
    "    \"\"\"\n",
    "    # 计算每个窗口\n",
    "    slidingWindowBacktestStartDateList = []  # List, 存每个窗口样本外开始日期\n",
    "    slidingWindowBacktestEndDateList = []  # List, 存每个窗口样本外结束日期\n",
    "    delta = backtestStartDate  # 循环控制条件\n",
    "    while (delta < backtestEndDate):  # 以相应步长遍历样本外区间\n",
    "        # 计算窗口样本外开始日期\n",
    "        startDate = stockDataDf.loc[delta.strftime('%Y-%m')].index[0]  # 该窗口的样本外开始日期:这个月的第一个交易日\n",
    "        slidingWindowBacktestStartDateList.append(startDate)  # 加入List中\n",
    "\n",
    "        # 计算窗口样本外结束日期\n",
    "        try:\n",
    "\n",
    "            endYearMonth = (delta + dateutil.relativedelta.relativedelta(months=stepMonth - 1)).strftime(\n",
    "                '%Y-%m')  # (开始日期 + 步长 - 1)的年月\n",
    "            endDate = stockDataDf.loc[endYearMonth].tail(1).index[0]  # 该窗口的样本外结束日期:(开始日期 + 步长 - 1)的月份最后一天\n",
    "            slidingWindowBacktestEndDateList.append(endDate)  # 加入List中\n",
    "        except Exception as e:\n",
    "            # 抛出异常, 说明最后一个窗口不满步长, 该窗口样本内外结束日期为样本外结束日期\n",
    "            slidingWindowBacktestEndDateList.append(backtestEndDate)\n",
    "\n",
    "        delta = delta + dateutil.relativedelta.relativedelta(months=stepMonth)  # 循环控制条件增加相应步长\n",
    "\n",
    "    # 构建滑动窗口Df\n",
    "    slidingWindowDf = pd.DataFrame(\n",
    "        data={'样本内数据年份数': sampleDataSize, '步长/月': stepMonth,\n",
    "              '样本外开始': slidingWindowBacktestStartDateList, '样本外结束': slidingWindowBacktestEndDateList},\n",
    "        columns=['样本内数据年份数', '步长/月',\n",
    "                 '样本内开始', '样本内结束',\n",
    "                 '样本外开始', '样本外结束'])\n",
    "\n",
    "    slidingWindowDf['样本内开始'] = slidingWindowDf['样本外开始'].apply(\n",
    "        lambda x:\n",
    "        stockDataDf.loc[(x - dateutil.relativedelta.relativedelta(years=sampleDataSize)).strftime('%Y-%m')].index[0]\n",
    "    )  # 样本内开始 = (样本外开始 - 步长)那个月的第一个交易日\n",
    "\n",
    "    slidingWindowDf['样本内结束'] = slidingWindowDf['样本外开始'].apply(\n",
    "        lambda x: stockDataDf.loc[(x - dateutil.relativedelta.relativedelta(months=1)).strftime('%Y-%m')].tail(1).index[\n",
    "            0]\n",
    "    )  # 样本内结束 = 样本外开始那个月的上一个月的最后一个交易日\n",
    "\n",
    "    return slidingWindowDf"
   ],
   "metadata": {
    "collapsed": false
   }
  },
  {
   "cell_type": "code",
   "execution_count": 49,
   "outputs": [
    {
     "data": {
      "text/plain": "    样本内数据年份数  步长/月      样本内开始      样本内结束      样本外开始      样本外结束\n0          9     6 2005-01-04 2013-12-31 2014-01-02 2014-06-30\n1          9     6 2005-07-01 2014-06-30 2014-07-01 2014-12-31\n2          9     6 2006-01-04 2014-12-31 2015-01-05 2015-06-30\n3          9     6 2006-07-03 2015-06-30 2015-07-01 2015-12-31\n4          9     6 2007-01-04 2015-12-31 2016-01-04 2016-06-30\n5          9     6 2007-07-02 2016-06-30 2016-07-01 2016-12-30\n6          9     6 2008-01-02 2016-12-30 2017-01-03 2017-06-30\n7          9     6 2008-07-01 2017-06-30 2017-07-03 2017-12-29\n8          9     6 2009-01-05 2017-12-29 2018-01-02 2018-06-29\n9          9     6 2009-07-01 2018-06-29 2018-07-02 2018-12-28\n10         9     6 2010-01-04 2018-12-28 2019-01-02 2019-06-28\n11         9     6 2010-07-01 2019-06-28 2019-07-01 2019-12-31\n12         9     6 2011-01-04 2019-12-31 2020-01-02 2020-06-30\n13         9     6 2011-07-01 2020-06-30 2020-07-01 2020-12-31\n14         9     6 2012-01-04 2020-12-31 2021-01-04 2021-06-30\n15         9     6 2012-07-02 2021-06-30 2021-07-01 2021-12-31",
      "text/html": "<div>\n<style scoped>\n    .dataframe tbody tr th:only-of-type {\n        vertical-align: middle;\n    }\n\n    .dataframe tbody tr th {\n        vertical-align: top;\n    }\n\n    .dataframe thead th {\n        text-align: right;\n    }\n</style>\n<table border=\"1\" class=\"dataframe\">\n  <thead>\n    <tr style=\"text-align: right;\">\n      <th></th>\n      <th>样本内数据年份数</th>\n      <th>步长/月</th>\n      <th>样本内开始</th>\n      <th>样本内结束</th>\n      <th>样本外开始</th>\n      <th>样本外结束</th>\n    </tr>\n  </thead>\n  <tbody>\n    <tr>\n      <th>0</th>\n      <td>9</td>\n      <td>6</td>\n      <td>2005-01-04</td>\n      <td>2013-12-31</td>\n      <td>2014-01-02</td>\n      <td>2014-06-30</td>\n    </tr>\n    <tr>\n      <th>1</th>\n      <td>9</td>\n      <td>6</td>\n      <td>2005-07-01</td>\n      <td>2014-06-30</td>\n      <td>2014-07-01</td>\n      <td>2014-12-31</td>\n    </tr>\n    <tr>\n      <th>2</th>\n      <td>9</td>\n      <td>6</td>\n      <td>2006-01-04</td>\n      <td>2014-12-31</td>\n      <td>2015-01-05</td>\n      <td>2015-06-30</td>\n    </tr>\n    <tr>\n      <th>3</th>\n      <td>9</td>\n      <td>6</td>\n      <td>2006-07-03</td>\n      <td>2015-06-30</td>\n      <td>2015-07-01</td>\n      <td>2015-12-31</td>\n    </tr>\n    <tr>\n      <th>4</th>\n      <td>9</td>\n      <td>6</td>\n      <td>2007-01-04</td>\n      <td>2015-12-31</td>\n      <td>2016-01-04</td>\n      <td>2016-06-30</td>\n    </tr>\n    <tr>\n      <th>5</th>\n      <td>9</td>\n      <td>6</td>\n      <td>2007-07-02</td>\n      <td>2016-06-30</td>\n      <td>2016-07-01</td>\n      <td>2016-12-30</td>\n    </tr>\n    <tr>\n      <th>6</th>\n      <td>9</td>\n      <td>6</td>\n      <td>2008-01-02</td>\n      <td>2016-12-30</td>\n      <td>2017-01-03</td>\n      <td>2017-06-30</td>\n    </tr>\n    <tr>\n      <th>7</th>\n      <td>9</td>\n      <td>6</td>\n      <td>2008-07-01</td>\n      <td>2017-06-30</td>\n      <td>2017-07-03</td>\n      <td>2017-12-29</td>\n    </tr>\n    <tr>\n      <th>8</th>\n      <td>9</td>\n      <td>6</td>\n      <td>2009-01-05</td>\n      <td>2017-12-29</td>\n      <td>2018-01-02</td>\n      <td>2018-06-29</td>\n    </tr>\n    <tr>\n      <th>9</th>\n      <td>9</td>\n      <td>6</td>\n      <td>2009-07-01</td>\n      <td>2018-06-29</td>\n      <td>2018-07-02</td>\n      <td>2018-12-28</td>\n    </tr>\n    <tr>\n      <th>10</th>\n      <td>9</td>\n      <td>6</td>\n      <td>2010-01-04</td>\n      <td>2018-12-28</td>\n      <td>2019-01-02</td>\n      <td>2019-06-28</td>\n    </tr>\n    <tr>\n      <th>11</th>\n      <td>9</td>\n      <td>6</td>\n      <td>2010-07-01</td>\n      <td>2019-06-28</td>\n      <td>2019-07-01</td>\n      <td>2019-12-31</td>\n    </tr>\n    <tr>\n      <th>12</th>\n      <td>9</td>\n      <td>6</td>\n      <td>2011-01-04</td>\n      <td>2019-12-31</td>\n      <td>2020-01-02</td>\n      <td>2020-06-30</td>\n    </tr>\n    <tr>\n      <th>13</th>\n      <td>9</td>\n      <td>6</td>\n      <td>2011-07-01</td>\n      <td>2020-06-30</td>\n      <td>2020-07-01</td>\n      <td>2020-12-31</td>\n    </tr>\n    <tr>\n      <th>14</th>\n      <td>9</td>\n      <td>6</td>\n      <td>2012-01-04</td>\n      <td>2020-12-31</td>\n      <td>2021-01-04</td>\n      <td>2021-06-30</td>\n    </tr>\n    <tr>\n      <th>15</th>\n      <td>9</td>\n      <td>6</td>\n      <td>2012-07-02</td>\n      <td>2021-06-30</td>\n      <td>2021-07-01</td>\n      <td>2021-12-31</td>\n    </tr>\n  </tbody>\n</table>\n</div>"
     },
     "execution_count": 49,
     "metadata": {},
     "output_type": "execute_result"
    }
   ],
   "source": [
    "slidingWindowDf = getSlidingWindowDf(stockDataDf, sampleDataSize, stepMonth)\n",
    "slidingWindowDf"
   ],
   "metadata": {
    "collapsed": false
   }
  },
  {
   "cell_type": "markdown",
   "source": [
    "### 2. 求训练数据集: train_x, train_y\n",
    "### 3. 求测试数据集: test_x, test_y\n",
    "### 4. 训练模型"
   ],
   "metadata": {
    "collapsed": false
   }
  },
  {
   "cell_type": "code",
   "execution_count": 57,
   "outputs": [],
   "source": [
    "# 向量化\n",
    "slidingWindowSampleStartDateList = slidingWindowDf['样本内开始'].values\n",
    "slidingWindowSampleEndDateList = slidingWindowDf['样本内结束'].values\n",
    "slidingWindowBacktestStartDateList = slidingWindowDf['样本外开始'].values\n",
    "slidingWindowBacktestEndDateList = slidingWindowDf['样本外结束'].values\n",
    "\n",
    "swZip = zip(slidingWindowSampleStartDateList, slidingWindowSampleEndDateList, slidingWindowBacktestStartDateList,\n",
    "            slidingWindowBacktestEndDateList)   # 生成zip,用于遍历"
   ],
   "metadata": {
    "collapsed": false
   }
  },
  {
   "cell_type": "code",
   "execution_count": null,
   "outputs": [],
   "source": [
    "def process_train_data(start_time, end_time, stock_data):\n",
    "    stock_data['MA_1'] = talib.MA(stock_data[\"close\"].values, 30)\n",
    "    stock_data = stock_data[(stock_data['date'] >= start_time)].reset_index(drop=True)\n",
    "    stock_data = stock_data[(stock_data['date'] <= end_time)].reset_index(drop=True)\n",
    "    stock_data1 = stock_data\n",
    "    stock_data = np.array(stock_data.drop(columns=['date']))\n",
    "    train_x = []\n",
    "    train_y = []\n",
    "    for i in range(0, len(stock_data)):\n",
    "        if (i + 5 >= len(stock_data)):\n",
    "            break\n",
    "        train_x.append(stock_data[i:i + 5].reshape(1, -1)[0])\n",
    "        train_y.append(stock_data[i + 5][3])\n",
    "    return train_x, train_y"
   ],
   "metadata": {
    "collapsed": false
   }
  },
  {
   "cell_type": "code",
   "execution_count": 107,
   "outputs": [],
   "source": [
    "# 遍历每个滑动窗口\n",
    "for sw in swZip:\n",
    "    # 处理训练数据集\n",
    "    swStockDataDf = stockDataDf[sw[0]:sw[1]]  # 取当前滑动窗口股票数据, 深拷贝\n",
    "    swStockData = np.array(swStockDataDf)  # 当前滑动窗口训练数据集, 二维数组\n",
    "\n",
    "    trainX = []\n",
    "    trainY = []\n",
    "    # 根据将过去pastDays天数据作为一组\n",
    "    for i in range(len(swStockData)):\n",
    "        if (i + pastDays >= len(swStockData)):  # 最后一组不满pastDays, 丢弃\n",
    "            break\n",
    "        trainX.append(swStockData[i:i + pastDays].reshape(1, -1)[0])\n",
    "        trainY.append(swStockData[i + pastDays][3])\n",
    "    break"
   ],
   "metadata": {
    "collapsed": false
   }
  },
  {
   "cell_type": "code",
   "execution_count": 105,
   "outputs": [
    {
     "data": {
      "text/plain": "[]"
     },
     "execution_count": 105,
     "metadata": {},
     "output_type": "execute_result"
    }
   ],
   "source": [],
   "metadata": {
    "collapsed": false
   }
  },
  {
   "cell_type": "code",
   "execution_count": null,
   "outputs": [],
   "source": [],
   "metadata": {
    "collapsed": false
   }
  }
 ],
 "metadata": {
  "kernelspec": {
   "display_name": "Python 3",
   "language": "python",
   "name": "python3"
  },
  "language_info": {
   "codemirror_mode": {
    "name": "ipython",
    "version": 2
   },
   "file_extension": ".py",
   "mimetype": "text/x-python",
   "name": "python",
   "nbconvert_exporter": "python",
   "pygments_lexer": "ipython2",
   "version": "2.7.6"
  }
 },
 "nbformat": 4,
 "nbformat_minor": 0
}
