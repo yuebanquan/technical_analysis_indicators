{
 "cells": [
  {
   "cell_type": "code",
   "execution_count": 1,
   "metadata": {
    "collapsed": true
   },
   "outputs": [],
   "source": [
    "import pandas as pd\n",
    "import tradingStrategy as ts\n",
    "import datetime\n",
    "import dateutil.relativedelta"
   ]
  },
  {
   "cell_type": "code",
   "execution_count": 2,
   "outputs": [],
   "source": [
    "stockDataFile = r\"./StockData.xlsx\""
   ],
   "metadata": {
    "collapsed": false
   }
  },
  {
   "cell_type": "code",
   "execution_count": 3,
   "outputs": [],
   "source": [
    "# 样本内区间\n",
    "sampleStartDate = datetime.datetime.strptime('2006-1-4', '%Y-%m-%d')\n",
    "sampleEndDate = datetime.datetime.strptime('2013-12-31', '%Y-%m-%d')\n",
    "\n",
    "# 样本外区间\n",
    "backtestStartDate = datetime.datetime.strptime('2014-01-02', '%Y-%m-%d')\n",
    "backtestEndDate = datetime.datetime.strptime('2021-12-31', '%Y-%m-%d')\n",
    "\n",
    "initBalance = 1000000\n",
    "\n",
    "shortMARange = range(1, 16)\n",
    "mediumMARange = range(20, 101)"
   ],
   "metadata": {
    "collapsed": false
   }
  },
  {
   "cell_type": "code",
   "execution_count": 4,
   "outputs": [
    {
     "data": {
      "text/plain": "               Open     High      Low    Close        Vol\nDate                                                     \n2005-01-04   994.76   994.76   980.65   982.79    7412869\n2005-01-05   981.57   997.32   979.87   992.56    7119109\n2005-01-06   993.33   993.78   980.33   983.17    6288028\n2005-01-07   983.04   995.71   979.81   983.95    7298694\n2005-01-10   983.76   993.95   979.78   993.87    5791697\n...             ...      ...      ...      ...        ...\n2021-12-27  4918.15  4939.69  4894.16  4919.32  124100952\n2021-12-28  4923.69  4959.15  4913.60  4955.96  130457760\n2021-12-29  4958.65  4958.65  4883.48  4883.48  113587000\n2021-12-30  4882.16  4940.18  4878.65  4921.51  121617176\n2021-12-31  4937.46  4950.36  4923.14  4940.37  121313736\n\n[4132 rows x 5 columns]",
      "text/html": "<div>\n<style scoped>\n    .dataframe tbody tr th:only-of-type {\n        vertical-align: middle;\n    }\n\n    .dataframe tbody tr th {\n        vertical-align: top;\n    }\n\n    .dataframe thead th {\n        text-align: right;\n    }\n</style>\n<table border=\"1\" class=\"dataframe\">\n  <thead>\n    <tr style=\"text-align: right;\">\n      <th></th>\n      <th>Open</th>\n      <th>High</th>\n      <th>Low</th>\n      <th>Close</th>\n      <th>Vol</th>\n    </tr>\n    <tr>\n      <th>Date</th>\n      <th></th>\n      <th></th>\n      <th></th>\n      <th></th>\n      <th></th>\n    </tr>\n  </thead>\n  <tbody>\n    <tr>\n      <th>2005-01-04</th>\n      <td>994.76</td>\n      <td>994.76</td>\n      <td>980.65</td>\n      <td>982.79</td>\n      <td>7412869</td>\n    </tr>\n    <tr>\n      <th>2005-01-05</th>\n      <td>981.57</td>\n      <td>997.32</td>\n      <td>979.87</td>\n      <td>992.56</td>\n      <td>7119109</td>\n    </tr>\n    <tr>\n      <th>2005-01-06</th>\n      <td>993.33</td>\n      <td>993.78</td>\n      <td>980.33</td>\n      <td>983.17</td>\n      <td>6288028</td>\n    </tr>\n    <tr>\n      <th>2005-01-07</th>\n      <td>983.04</td>\n      <td>995.71</td>\n      <td>979.81</td>\n      <td>983.95</td>\n      <td>7298694</td>\n    </tr>\n    <tr>\n      <th>2005-01-10</th>\n      <td>983.76</td>\n      <td>993.95</td>\n      <td>979.78</td>\n      <td>993.87</td>\n      <td>5791697</td>\n    </tr>\n    <tr>\n      <th>...</th>\n      <td>...</td>\n      <td>...</td>\n      <td>...</td>\n      <td>...</td>\n      <td>...</td>\n    </tr>\n    <tr>\n      <th>2021-12-27</th>\n      <td>4918.15</td>\n      <td>4939.69</td>\n      <td>4894.16</td>\n      <td>4919.32</td>\n      <td>124100952</td>\n    </tr>\n    <tr>\n      <th>2021-12-28</th>\n      <td>4923.69</td>\n      <td>4959.15</td>\n      <td>4913.60</td>\n      <td>4955.96</td>\n      <td>130457760</td>\n    </tr>\n    <tr>\n      <th>2021-12-29</th>\n      <td>4958.65</td>\n      <td>4958.65</td>\n      <td>4883.48</td>\n      <td>4883.48</td>\n      <td>113587000</td>\n    </tr>\n    <tr>\n      <th>2021-12-30</th>\n      <td>4882.16</td>\n      <td>4940.18</td>\n      <td>4878.65</td>\n      <td>4921.51</td>\n      <td>121617176</td>\n    </tr>\n    <tr>\n      <th>2021-12-31</th>\n      <td>4937.46</td>\n      <td>4950.36</td>\n      <td>4923.14</td>\n      <td>4940.37</td>\n      <td>121313736</td>\n    </tr>\n  </tbody>\n</table>\n<p>4132 rows × 5 columns</p>\n</div>"
     },
     "execution_count": 4,
     "metadata": {},
     "output_type": "execute_result"
    }
   ],
   "source": [
    "df = pd.read_excel(stockDataFile, sheet_name='399300', index_col='Date', parse_dates=['Date'])\n",
    "df"
   ],
   "metadata": {
    "collapsed": false
   }
  },
  {
   "cell_type": "code",
   "execution_count": 5,
   "outputs": [],
   "source": [
    "stepMonth = 12  # 滑动窗口步长: 6个月\n",
    "sampleDataSize = 8  # 样本内数据量: 9年"
   ],
   "metadata": {
    "collapsed": false
   }
  },
  {
   "cell_type": "code",
   "execution_count": 6,
   "outputs": [],
   "source": [
    "# 计算每个窗口\n",
    "slidingWindowBacktestStartDateList = []  # List, 存每个窗口样本外开始日期\n",
    "slidingWindowBacktestEndDateList = []  # List, 存每个窗口样本外结束日期\n",
    "\n",
    "delta = backtestStartDate  # 循环控制条件\n",
    "while (delta < backtestEndDate):  # 以相应步长遍历样本外区间\n",
    "\n",
    "    # 计算窗口样本外开始日期\n",
    "    startDate = df.loc[delta.strftime('%Y-%m')].index[0]  # 该窗口的样本外开始日期:这个月的第一个交易日\n",
    "    slidingWindowBacktestStartDateList.append(startDate)  # 加入List中\n",
    "\n",
    "    # 计算窗口样本外结束日期\n",
    "    try:\n",
    "        endDate = df.loc[(delta + dateutil.relativedelta.relativedelta(months=stepMonth - 1)).strftime('%Y-%m')].tail(\n",
    "            1).index[0]  # 该窗口的样本外结束日期:(开始日期 + 步长 - 1)的月份最后一天\n",
    "        slidingWindowBacktestEndDateList.append(endDate)  # 加入List中\n",
    "    except Exception as e:\n",
    "        # 抛出异常, 说明最后一个窗口不满步长, 该窗口样本内外结束日期为样本外结束日期\n",
    "        slidingWindowBacktestEndDateList.append(backtestEndDate)\n",
    "\n",
    "    delta = delta + dateutil.relativedelta.relativedelta(months=stepMonth)  # 循环控制条件增加相应步长"
   ],
   "metadata": {
    "collapsed": false
   }
  },
  {
   "cell_type": "code",
   "execution_count": 7,
   "outputs": [
    {
     "data": {
      "text/plain": "   样本内数据年份数  步长/月      样本内开始      样本内结束      样本外开始      样本外结束 最佳短期均线 最佳中期均线  \\\n0         8    12 2006-01-04 2013-12-31 2014-01-02 2014-12-31    NaN    NaN   \n1         8    12 2007-01-04 2014-12-31 2015-01-05 2015-12-31    NaN    NaN   \n2         8    12 2008-01-02 2015-12-31 2016-01-04 2016-12-30    NaN    NaN   \n3         8    12 2009-01-05 2016-12-30 2017-01-03 2017-12-29    NaN    NaN   \n4         8    12 2010-01-04 2017-12-29 2018-01-02 2018-12-28    NaN    NaN   \n5         8    12 2011-01-04 2018-12-28 2019-01-02 2019-12-31    NaN    NaN   \n6         8    12 2012-01-04 2019-12-31 2020-01-02 2020-12-31    NaN    NaN   \n7         8    12 2013-01-04 2020-12-31 2021-01-04 2021-12-31    NaN    NaN   \n\n  样本内净资产  \n0    NaN  \n1    NaN  \n2    NaN  \n3    NaN  \n4    NaN  \n5    NaN  \n6    NaN  \n7    NaN  ",
      "text/html": "<div>\n<style scoped>\n    .dataframe tbody tr th:only-of-type {\n        vertical-align: middle;\n    }\n\n    .dataframe tbody tr th {\n        vertical-align: top;\n    }\n\n    .dataframe thead th {\n        text-align: right;\n    }\n</style>\n<table border=\"1\" class=\"dataframe\">\n  <thead>\n    <tr style=\"text-align: right;\">\n      <th></th>\n      <th>样本内数据年份数</th>\n      <th>步长/月</th>\n      <th>样本内开始</th>\n      <th>样本内结束</th>\n      <th>样本外开始</th>\n      <th>样本外结束</th>\n      <th>最佳短期均线</th>\n      <th>最佳中期均线</th>\n      <th>样本内净资产</th>\n    </tr>\n  </thead>\n  <tbody>\n    <tr>\n      <th>0</th>\n      <td>8</td>\n      <td>12</td>\n      <td>2006-01-04</td>\n      <td>2013-12-31</td>\n      <td>2014-01-02</td>\n      <td>2014-12-31</td>\n      <td>NaN</td>\n      <td>NaN</td>\n      <td>NaN</td>\n    </tr>\n    <tr>\n      <th>1</th>\n      <td>8</td>\n      <td>12</td>\n      <td>2007-01-04</td>\n      <td>2014-12-31</td>\n      <td>2015-01-05</td>\n      <td>2015-12-31</td>\n      <td>NaN</td>\n      <td>NaN</td>\n      <td>NaN</td>\n    </tr>\n    <tr>\n      <th>2</th>\n      <td>8</td>\n      <td>12</td>\n      <td>2008-01-02</td>\n      <td>2015-12-31</td>\n      <td>2016-01-04</td>\n      <td>2016-12-30</td>\n      <td>NaN</td>\n      <td>NaN</td>\n      <td>NaN</td>\n    </tr>\n    <tr>\n      <th>3</th>\n      <td>8</td>\n      <td>12</td>\n      <td>2009-01-05</td>\n      <td>2016-12-30</td>\n      <td>2017-01-03</td>\n      <td>2017-12-29</td>\n      <td>NaN</td>\n      <td>NaN</td>\n      <td>NaN</td>\n    </tr>\n    <tr>\n      <th>4</th>\n      <td>8</td>\n      <td>12</td>\n      <td>2010-01-04</td>\n      <td>2017-12-29</td>\n      <td>2018-01-02</td>\n      <td>2018-12-28</td>\n      <td>NaN</td>\n      <td>NaN</td>\n      <td>NaN</td>\n    </tr>\n    <tr>\n      <th>5</th>\n      <td>8</td>\n      <td>12</td>\n      <td>2011-01-04</td>\n      <td>2018-12-28</td>\n      <td>2019-01-02</td>\n      <td>2019-12-31</td>\n      <td>NaN</td>\n      <td>NaN</td>\n      <td>NaN</td>\n    </tr>\n    <tr>\n      <th>6</th>\n      <td>8</td>\n      <td>12</td>\n      <td>2012-01-04</td>\n      <td>2019-12-31</td>\n      <td>2020-01-02</td>\n      <td>2020-12-31</td>\n      <td>NaN</td>\n      <td>NaN</td>\n      <td>NaN</td>\n    </tr>\n    <tr>\n      <th>7</th>\n      <td>8</td>\n      <td>12</td>\n      <td>2013-01-04</td>\n      <td>2020-12-31</td>\n      <td>2021-01-04</td>\n      <td>2021-12-31</td>\n      <td>NaN</td>\n      <td>NaN</td>\n      <td>NaN</td>\n    </tr>\n  </tbody>\n</table>\n</div>"
     },
     "execution_count": 7,
     "metadata": {},
     "output_type": "execute_result"
    }
   ],
   "source": [
    "bestDf = pd.DataFrame(\n",
    "    data={'样本内数据年份数': sampleDataSize, '步长/月': stepMonth,\n",
    "          '样本外开始': slidingWindowBacktestStartDateList, '样本外结束': slidingWindowBacktestEndDateList},\n",
    "    columns=['样本内数据年份数', '步长/月',\n",
    "             '样本内开始', '样本内结束',\n",
    "             '样本外开始', '样本外结束',\n",
    "             '最佳短期均线', '最佳中期均线', '样本内净资产'])\n",
    "\n",
    "bestDf['样本内开始'] = bestDf['样本外开始'].apply(\n",
    "    lambda x: df.loc[(x - dateutil.relativedelta.relativedelta(years=sampleDataSize)).strftime('%Y-%m')].index[0]\n",
    ")  # 样本内开始 = (样本外开始 - 步长)那个月的第一个交易日\n",
    "\n",
    "bestDf['样本内结束'] = bestDf['样本外开始'].apply(\n",
    "    lambda x: df.loc[(x - dateutil.relativedelta.relativedelta(months=1)).strftime('%Y-%m')].tail(1).index[\n",
    "        0]\n",
    ")\n",
    "# 样本内结束 = 样本外开始那个月的上一个月的最后一个交易日\n",
    "\n",
    "bestDf"
   ],
   "metadata": {
    "collapsed": false
   }
  },
  {
   "cell_type": "code",
   "execution_count": 8,
   "outputs": [],
   "source": [
    "# 将bestDf向量化\n",
    "slidingWindowSampleStartDateList = bestDf['样本内开始'].values\n",
    "slidingWindowSampleEndDateList = bestDf['样本内结束'].values\n",
    "slidingWindowBacktestStartDateList = bestDf['样本外开始'].values\n",
    "slidingWindowBacktestEndDateList = bestDf['样本外结束'].values\n",
    "\n",
    "bestShortMAList = bestDf['最佳短期均线'].values\n",
    "bestMediumMAList = bestDf['最佳中期均线'].values\n",
    "bestNetAssetList = bestDf['样本内净资产'].values"
   ],
   "metadata": {
    "collapsed": false
   }
  },
  {
   "cell_type": "code",
   "execution_count": 9,
   "outputs": [],
   "source": [
    "# 使用最佳参数回测交易明细\n",
    "backtestTradingDf = pd.DataFrame(columns=['Open', 'Close', 'sign', 'hold', 'balance', 'netAsset', 'profit'])"
   ],
   "metadata": {
    "collapsed": false
   }
  },
  {
   "cell_type": "code",
   "execution_count": 10,
   "outputs": [
    {
     "name": "stdout",
     "output_type": "stream",
     "text": [
      "1/8\n",
      "2/8rtMA = 15, mediumMA = 100, netAsset = 4930603.104900007\rhortMA = 3, mediumMA = 31, netAsset = 4836044.545325025shortMA = 3, mediumMA = 91, netAsset = 4831495.667495013shortMA = 4, mediumMA = 71, netAsset = 5076444.511655013shortMA = 5, mediumMA = 52, netAsset = 5303760.275665015shortMA = 6, mediumMA = 32, netAsset = 5123364.577345012shortMA = 6, mediumMA = 94, netAsset = 4133493.837960008shortMA = 7, mediumMA = 76, netAsset = 5727880.51433501shortMA = 8, mediumMA = 57, netAsset = 5130192.024160013shortMA = 9, mediumMA = 39, netAsset = 5309547.586215012shortMA = 10, mediumMA = 21, netAsset = 4453247.424395017shortMA = 10, mediumMA = 83, netAsset = 5195447.88106501shortMA = 11, mediumMA = 64, netAsset = 5323204.1868550135shortMA = 12, mediumMA = 47, netAsset = 5158692.366800012shortMA = 13, mediumMA = 30, netAsset = 4331361.257145018shortMA = 13, mediumMA = 94, netAsset = 4453131.796895005shortMA = 14, mediumMA = 76, netAsset = 4496255.995960013shortMA = 15, mediumMA = 58, netAsset = 4257762.150905005\n",
      "3/8rtMA = 15, mediumMA = 99, netAsset = 3975862.573655004\r\rortMA = 5, mediumMA = 23, netAsset = 2077844.7571450071shortMA = 5, mediumMA = 86, netAsset = 3859062.516530005shortMA = 6, mediumMA = 68, netAsset = 4058027.520635008shortMA = 7, mediumMA = 50, netAsset = 2689837.9534700057shortMA = 8, mediumMA = 33, netAsset = 3919075.858970007shortMA = 8, mediumMA = 97, netAsset = 3362543.0107300053shortMA = 9, mediumMA = 79, netAsset = 4391041.504805007shortMA = 10, mediumMA = 59, netAsset = 3626221.791405009shortMA = 11, mediumMA = 41, netAsset = 3588018.052180006shortMA = 12, mediumMA = 24, netAsset = 4101055.0624850113shortMA = 12, mediumMA = 88, netAsset = 3425576.929750005shortMA = 13, mediumMA = 71, netAsset = 4226377.031220004shortMA = 14, mediumMA = 54, netAsset = 2934743.2248500055shortMA = 15, mediumMA = 36, netAsset = 3223738.587600006shortMA = 15, mediumMA = 100, netAsset = 3831994.6114150034\n",
      "4/8rtMA = 15, mediumMA = 100, netAsset = 1846729.0006450021hortMA = 6, mediumMA = 47, netAsset = 2015659.3567700037shortMA = 7, mediumMA = 28, netAsset = 1988644.1077800042shortMA = 7, mediumMA = 89, netAsset = 1599850.1038850006shortMA = 8, mediumMA = 71, netAsset = 2152867.933335003shortMA = 9, mediumMA = 53, netAsset = 2005739.9519150038shortMA = 10, mediumMA = 35, netAsset = 1600343.0394650022shortMA = 10, mediumMA = 98, netAsset = 1621163.3744650022shortMA = 11, mediumMA = 80, netAsset = 1656112.801540002shortMA = 12, mediumMA = 62, netAsset = 2154260.552125002shortMA = 13, mediumMA = 44, netAsset = 2041029.525260003shortMA = 14, mediumMA = 25, netAsset = 1749280.5967150049shortMA = 14, mediumMA = 89, netAsset = 1508639.6883100017shortMA = 15, mediumMA = 70, netAsset = 1819945.1867500027\n",
      "5/8rtMA = 15, mediumMA = 100, netAsset = 1976807.1784900026hortMA = 2, mediumMA = 29, netAsset = 1591422.7184050088shortMA = 2, mediumMA = 90, netAsset = 1599785.9706600038shortMA = 3, mediumMA = 71, netAsset = 2095573.167395006shortMA = 4, mediumMA = 52, netAsset = 2493726.0589050055shortMA = 5, mediumMA = 33, netAsset = 2463191.391630005shortMA = 5, mediumMA = 96, netAsset = 1692531.6730850034shortMA = 6, mediumMA = 78, netAsset = 2421731.7851800034shortMA = 7, mediumMA = 60, netAsset = 2400351.632370006shortMA = 8, mediumMA = 43, netAsset = 2268641.241055006shortMA = 9, mediumMA = 24, netAsset = 2128682.324000008shortMA = 9, mediumMA = 85, netAsset = 1611903.7714000032shortMA = 10, mediumMA = 66, netAsset = 2279061.2670100047shortMA = 11, mediumMA = 47, netAsset = 1951882.8118450036shortMA = 12, mediumMA = 29, netAsset = 1912929.747160005shortMA = 12, mediumMA = 92, netAsset = 1549454.0742050014shortMA = 13, mediumMA = 72, netAsset = 2106012.5260600056shortMA = 14, mediumMA = 54, netAsset = 1858985.6629700032shortMA = 15, mediumMA = 35, netAsset = 2166730.7083500046shortMA = 15, mediumMA = 98, netAsset = 2122226.4161400017\n",
      "6/8rtMA = 15, mediumMA = 100, netAsset = 1444897.4208100007hortMA = 6, mediumMA = 48, netAsset = 1606503.2706750042shortMA = 7, mediumMA = 30, netAsset = 1885588.276080005shortMA = 7, mediumMA = 93, netAsset = 1351052.7750350016shortMA = 8, mediumMA = 75, netAsset = 1388024.814550001shortMA = 9, mediumMA = 56, netAsset = 1570741.1579100026shortMA = 10, mediumMA = 37, netAsset = 1612253.6741200024shortMA = 10, mediumMA = 99, netAsset = 1285984.9133600018shortMA = 11, mediumMA = 81, netAsset = 1204604.5512700025shortMA = 12, mediumMA = 62, netAsset = 1580959.8624700026shortMA = 13, mediumMA = 44, netAsset = 1570009.8958150032shortMA = 14, mediumMA = 25, netAsset = 1753640.1461000058shortMA = 14, mediumMA = 87, netAsset = 1133224.592470002shortMA = 15, mediumMA = 70, netAsset = 1268254.1135800022\n",
      "7/8rtMA = 15, mediumMA = 100, netAsset = 1476372.0456100013shortMA = 15, mediumMA = 41, netAsset = 1124886.5571100025\n",
      "8/8rtMA = 15, mediumMA = 100, netAsset = 1690307.8084100022hortMA = 4, mediumMA = 25, netAsset = 1504473.4080650108shortMA = 4, mediumMA = 85, netAsset = 1902559.5399850053shortMA = 5, mediumMA = 67, netAsset = 1783624.0636000044shortMA = 6, mediumMA = 48, netAsset = 1655345.3206150054shortMA = 7, mediumMA = 30, netAsset = 1920323.2193700068shortMA = 7, mediumMA = 93, netAsset = 1787149.1840100025shortMA = 8, mediumMA = 75, netAsset = 1769003.0975950025shortMA = 9, mediumMA = 57, netAsset = 1844578.9607000037shortMA = 10, mediumMA = 39, netAsset = 1804455.3007050054shortMA = 11, mediumMA = 21, netAsset = 1355419.3821300077shortMA = 11, mediumMA = 84, netAsset = 1452474.573510003shortMA = 12, mediumMA = 66, netAsset = 1782033.2653950031shortMA = 13, mediumMA = 48, netAsset = 1711281.1356050028shortMA = 14, mediumMA = 30, netAsset = 2005579.3100350064shortMA = 14, mediumMA = 93, netAsset = 1442170.121565001shortMA = 15, mediumMA = 75, netAsset = 1413162.4069300022\n",
      "shortMA = 15, mediumMA = 100, netAsset = 1842524.3652900017\rortMA = 8, mediumMA = 54, netAsset = 2288480.1981450045shortMA = 9, mediumMA = 37, netAsset = 1864687.9753500063shortMA = 10, mediumMA = 20, netAsset = 1132192.317100006shortMA = 10, mediumMA = 83, netAsset = 1538200.1602950024shortMA = 11, mediumMA = 66, netAsset = 2043758.823605003shortMA = 12, mediumMA = 49, netAsset = 1854312.1540650027shortMA = 13, mediumMA = 32, netAsset = 2080971.9666900046shortMA = 13, mediumMA = 96, netAsset = 1481650.0143100014shortMA = 14, mediumMA = 79, netAsset = 1530004.1428350033shortMA = 15, mediumMA = 61, netAsset = 1884606.4731900035"
     ]
    }
   ],
   "source": [
    "balance = initBalance  # 样本外区间进行回测时持有的现金\n",
    "hold = 0  # 样本外区间进行回测时持有的证券数量\n",
    "\n",
    "# 遍历bestDf, 计算每个窗口的最佳参数组合\n",
    "for i in range(len(bestNetAssetList)):\n",
    "    # 进度\n",
    "    print(str(i + 1) + '/' + str(len(bestNetAssetList)))\n",
    "\n",
    "    ############样本内区间############\n",
    "    # 样本内区间, 计算最佳参数\n",
    "    iSampleStartDate = slidingWindowSampleStartDateList[i]  # 该窗口样本内开始时间\n",
    "    iSampleEndDate = slidingWindowSampleEndDateList[i]  # 该窗口样本内结束时间\n",
    "\n",
    "    itAllStrategyDf = ts.getAllStrategy(df, iSampleStartDate, iSampleEndDate, shortMARange, mediumMARange)  # 计算该窗口所有参数\n",
    "    bestShortMA, bestMediumMA, bestNetAsset = ts.getBestStrategy(itAllStrategyDf)  # 找最佳参数\n",
    "\n",
    "    # 写入最佳参数\n",
    "    bestShortMAList[i] = bestShortMA\n",
    "    bestMediumMAList[i] = bestMediumMA\n",
    "    bestNetAssetList[i] = bestNetAsset\n",
    "\n",
    "    ############样本外区间############\n",
    "    # 使用最佳参数在该窗口进行回测\n",
    "    iBacktestStartDate = slidingWindowBacktestStartDateList[i]  # 该窗口样本外开始时间\n",
    "    iBacktestEndDate = slidingWindowBacktestEndDateList[i]  # 该窗口样本外结束时间\n",
    "\n",
    "    backtestStrategyDf = ts.strategy(df, iBacktestStartDate, iBacktestEndDate, bestShortMA, bestMediumMA,\n",
    "                                     hold)  # 该窗口买卖标志位\n",
    "    newBacktestTradingDf = ts.trading(backtestStrategyDf, balance, hold)  # 该窗口交易明细\n",
    "\n",
    "    balance = newBacktestTradingDf.iloc[-1]['balance']  # 更新现金\n",
    "    hold = newBacktestTradingDf.iloc[-1]['hold']  # 更新持有证券数量\n",
    "\n",
    "    backtestTradingDf = pd.concat([backtestTradingDf, newBacktestTradingDf])  # 将该窗口交易明细合并进回测交易明细中"
   ],
   "metadata": {
    "collapsed": false
   }
  },
  {
   "cell_type": "code",
   "execution_count": 11,
   "outputs": [
    {
     "data": {
      "text/plain": "   样本内数据年份数  步长/月      样本内开始      样本内结束      样本外开始      样本外结束 最佳短期均线 最佳中期均线  \\\n0         8    12 2006-01-04 2013-12-31 2014-01-02 2014-12-31      7     41   \n1         8    12 2007-01-04 2014-12-31 2015-01-05 2015-12-31      6     79   \n2         8    12 2008-01-02 2015-12-31 2016-01-04 2016-12-30      6     39   \n3         8    12 2009-01-05 2016-12-30 2017-01-03 2017-12-29      1     42   \n4         8    12 2010-01-04 2017-12-29 2018-01-02 2018-12-28      6     30   \n5         8    12 2011-01-04 2018-12-28 2019-01-02 2019-12-31      1     42   \n6         8    12 2012-01-04 2019-12-31 2020-01-02 2020-12-31     10     25   \n7         8    12 2013-01-04 2020-12-31 2021-01-04 2021-12-31      8     55   \n\n           样本内净资产  \n0   7576352.11915  \n1    4887152.4309  \n2  2570290.728495  \n3  3110051.208335  \n4  2132626.852475  \n5   1758644.51684  \n6   2122122.60717  \n7   2401897.58212  ",
      "text/html": "<div>\n<style scoped>\n    .dataframe tbody tr th:only-of-type {\n        vertical-align: middle;\n    }\n\n    .dataframe tbody tr th {\n        vertical-align: top;\n    }\n\n    .dataframe thead th {\n        text-align: right;\n    }\n</style>\n<table border=\"1\" class=\"dataframe\">\n  <thead>\n    <tr style=\"text-align: right;\">\n      <th></th>\n      <th>样本内数据年份数</th>\n      <th>步长/月</th>\n      <th>样本内开始</th>\n      <th>样本内结束</th>\n      <th>样本外开始</th>\n      <th>样本外结束</th>\n      <th>最佳短期均线</th>\n      <th>最佳中期均线</th>\n      <th>样本内净资产</th>\n    </tr>\n  </thead>\n  <tbody>\n    <tr>\n      <th>0</th>\n      <td>8</td>\n      <td>12</td>\n      <td>2006-01-04</td>\n      <td>2013-12-31</td>\n      <td>2014-01-02</td>\n      <td>2014-12-31</td>\n      <td>7</td>\n      <td>41</td>\n      <td>7576352.11915</td>\n    </tr>\n    <tr>\n      <th>1</th>\n      <td>8</td>\n      <td>12</td>\n      <td>2007-01-04</td>\n      <td>2014-12-31</td>\n      <td>2015-01-05</td>\n      <td>2015-12-31</td>\n      <td>6</td>\n      <td>79</td>\n      <td>4887152.4309</td>\n    </tr>\n    <tr>\n      <th>2</th>\n      <td>8</td>\n      <td>12</td>\n      <td>2008-01-02</td>\n      <td>2015-12-31</td>\n      <td>2016-01-04</td>\n      <td>2016-12-30</td>\n      <td>6</td>\n      <td>39</td>\n      <td>2570290.728495</td>\n    </tr>\n    <tr>\n      <th>3</th>\n      <td>8</td>\n      <td>12</td>\n      <td>2009-01-05</td>\n      <td>2016-12-30</td>\n      <td>2017-01-03</td>\n      <td>2017-12-29</td>\n      <td>1</td>\n      <td>42</td>\n      <td>3110051.208335</td>\n    </tr>\n    <tr>\n      <th>4</th>\n      <td>8</td>\n      <td>12</td>\n      <td>2010-01-04</td>\n      <td>2017-12-29</td>\n      <td>2018-01-02</td>\n      <td>2018-12-28</td>\n      <td>6</td>\n      <td>30</td>\n      <td>2132626.852475</td>\n    </tr>\n    <tr>\n      <th>5</th>\n      <td>8</td>\n      <td>12</td>\n      <td>2011-01-04</td>\n      <td>2018-12-28</td>\n      <td>2019-01-02</td>\n      <td>2019-12-31</td>\n      <td>1</td>\n      <td>42</td>\n      <td>1758644.51684</td>\n    </tr>\n    <tr>\n      <th>6</th>\n      <td>8</td>\n      <td>12</td>\n      <td>2012-01-04</td>\n      <td>2019-12-31</td>\n      <td>2020-01-02</td>\n      <td>2020-12-31</td>\n      <td>10</td>\n      <td>25</td>\n      <td>2122122.60717</td>\n    </tr>\n    <tr>\n      <th>7</th>\n      <td>8</td>\n      <td>12</td>\n      <td>2013-01-04</td>\n      <td>2020-12-31</td>\n      <td>2021-01-04</td>\n      <td>2021-12-31</td>\n      <td>8</td>\n      <td>55</td>\n      <td>2401897.58212</td>\n    </tr>\n  </tbody>\n</table>\n</div>"
     },
     "execution_count": 11,
     "metadata": {},
     "output_type": "execute_result"
    }
   ],
   "source": [
    "bestDf"
   ],
   "metadata": {
    "collapsed": false
   }
  },
  {
   "cell_type": "code",
   "execution_count": 12,
   "outputs": [
    {
     "data": {
      "text/plain": "               Open    Close  sign   hold       balance      netAsset  \\\n2014-01-02  2323.43  2321.98   0.0    0.0  1.000000e+06  1.000000e+06   \n2014-02-18  2310.31  2282.44   1.0  432.0  1.447053e+03  9.995010e+05   \n2014-02-27  2170.81  2154.11  -1.0    0.0  9.387681e+05  9.387681e+05   \n2014-04-11  2269.56  2270.67   1.0  413.0  9.711339e+02  9.382994e+05   \n2014-04-30  2158.76  2158.66  -1.0    0.0  8.920932e+05  8.920932e+05   \n...             ...      ...   ...    ...           ...           ...   \n2021-07-09  5063.15  5069.44  -1.0    0.0  1.390553e+06  1.390553e+06   \n2021-10-18  4922.51  4874.78   1.0  282.0  1.711080e+03  1.389859e+06   \n2021-11-04  4841.09  4868.74  -1.0    0.0  1.366216e+06  1.366216e+06   \n2021-12-09  5000.69  5078.69   1.0  273.0  3.449017e+02  1.365533e+06   \n2021-12-31  4937.46  4940.37   0.0  273.0  3.449017e+02  1.349066e+06   \n\n                 profit  \n2014-01-02      0.00000  \n2014-02-18      0.00000  \n2014-02-27 -61231.92192  \n2014-04-11      0.00000  \n2014-04-30 -46674.84808  \n...                 ...  \n2021-07-09 -52204.07879  \n2021-10-18      0.00000  \n2021-11-04 -24337.10760  \n2021-12-09      0.00000  \n2021-12-31      0.00000  \n\n[113 rows x 7 columns]",
      "text/html": "<div>\n<style scoped>\n    .dataframe tbody tr th:only-of-type {\n        vertical-align: middle;\n    }\n\n    .dataframe tbody tr th {\n        vertical-align: top;\n    }\n\n    .dataframe thead th {\n        text-align: right;\n    }\n</style>\n<table border=\"1\" class=\"dataframe\">\n  <thead>\n    <tr style=\"text-align: right;\">\n      <th></th>\n      <th>Open</th>\n      <th>Close</th>\n      <th>sign</th>\n      <th>hold</th>\n      <th>balance</th>\n      <th>netAsset</th>\n      <th>profit</th>\n    </tr>\n  </thead>\n  <tbody>\n    <tr>\n      <th>2014-01-02</th>\n      <td>2323.43</td>\n      <td>2321.98</td>\n      <td>0.0</td>\n      <td>0.0</td>\n      <td>1.000000e+06</td>\n      <td>1.000000e+06</td>\n      <td>0.00000</td>\n    </tr>\n    <tr>\n      <th>2014-02-18</th>\n      <td>2310.31</td>\n      <td>2282.44</td>\n      <td>1.0</td>\n      <td>432.0</td>\n      <td>1.447053e+03</td>\n      <td>9.995010e+05</td>\n      <td>0.00000</td>\n    </tr>\n    <tr>\n      <th>2014-02-27</th>\n      <td>2170.81</td>\n      <td>2154.11</td>\n      <td>-1.0</td>\n      <td>0.0</td>\n      <td>9.387681e+05</td>\n      <td>9.387681e+05</td>\n      <td>-61231.92192</td>\n    </tr>\n    <tr>\n      <th>2014-04-11</th>\n      <td>2269.56</td>\n      <td>2270.67</td>\n      <td>1.0</td>\n      <td>413.0</td>\n      <td>9.711339e+02</td>\n      <td>9.382994e+05</td>\n      <td>0.00000</td>\n    </tr>\n    <tr>\n      <th>2014-04-30</th>\n      <td>2158.76</td>\n      <td>2158.66</td>\n      <td>-1.0</td>\n      <td>0.0</td>\n      <td>8.920932e+05</td>\n      <td>8.920932e+05</td>\n      <td>-46674.84808</td>\n    </tr>\n    <tr>\n      <th>...</th>\n      <td>...</td>\n      <td>...</td>\n      <td>...</td>\n      <td>...</td>\n      <td>...</td>\n      <td>...</td>\n      <td>...</td>\n    </tr>\n    <tr>\n      <th>2021-07-09</th>\n      <td>5063.15</td>\n      <td>5069.44</td>\n      <td>-1.0</td>\n      <td>0.0</td>\n      <td>1.390553e+06</td>\n      <td>1.390553e+06</td>\n      <td>-52204.07879</td>\n    </tr>\n    <tr>\n      <th>2021-10-18</th>\n      <td>4922.51</td>\n      <td>4874.78</td>\n      <td>1.0</td>\n      <td>282.0</td>\n      <td>1.711080e+03</td>\n      <td>1.389859e+06</td>\n      <td>0.00000</td>\n    </tr>\n    <tr>\n      <th>2021-11-04</th>\n      <td>4841.09</td>\n      <td>4868.74</td>\n      <td>-1.0</td>\n      <td>0.0</td>\n      <td>1.366216e+06</td>\n      <td>1.366216e+06</td>\n      <td>-24337.10760</td>\n    </tr>\n    <tr>\n      <th>2021-12-09</th>\n      <td>5000.69</td>\n      <td>5078.69</td>\n      <td>1.0</td>\n      <td>273.0</td>\n      <td>3.449017e+02</td>\n      <td>1.365533e+06</td>\n      <td>0.00000</td>\n    </tr>\n    <tr>\n      <th>2021-12-31</th>\n      <td>4937.46</td>\n      <td>4940.37</td>\n      <td>0.0</td>\n      <td>273.0</td>\n      <td>3.449017e+02</td>\n      <td>1.349066e+06</td>\n      <td>0.00000</td>\n    </tr>\n  </tbody>\n</table>\n<p>113 rows × 7 columns</p>\n</div>"
     },
     "execution_count": 12,
     "metadata": {},
     "output_type": "execute_result"
    }
   ],
   "source": [
    "backtestTradingDf"
   ],
   "metadata": {
    "collapsed": false
   }
  },
  {
   "cell_type": "code",
   "execution_count": 13,
   "outputs": [],
   "source": [
    "backtestNetAsset = backtestTradingDf.iloc[-1]['netAsset']\n",
    "backtestTotalRate = ts.getTotalRate(initBalance, backtestNetAsset)\n",
    "backtestCompoundRate = ts.getCompoundRate(backtestTotalRate, backtestStartDate, backtestEndDate)"
   ],
   "metadata": {
    "collapsed": false
   }
  },
  {
   "cell_type": "code",
   "execution_count": 19,
   "outputs": [],
   "source": [
    "revenues = pd.Series([sampleDataSize, stepMonth, backtestNetAsset, backtestCompoundRate],\n",
    "                     index=['样本内数据年份数', '步长/月', '样本外净资产', '年均收益率复利'])"
   ],
   "metadata": {
    "collapsed": false
   }
  },
  {
   "cell_type": "code",
   "execution_count": 20,
   "outputs": [
    {
     "data": {
      "text/plain": "样本内数据年份数    8.000000e+00\n步长/月        1.200000e+01\n样本外净资产      1.349066e+06\n年均收益率复利     3.812245e-02\ndtype: float64"
     },
     "execution_count": 20,
     "metadata": {},
     "output_type": "execute_result"
    }
   ],
   "source": [],
   "metadata": {
    "collapsed": false
   }
  },
  {
   "cell_type": "code",
   "execution_count": 8,
   "outputs": [
    {
     "data": {
      "text/plain": "               Open     High      Low    Close        Vol\nDate                                                     \n2005-01-04   994.76   994.76   980.65   982.79    7412869\n2005-01-05   981.57   997.32   979.87   992.56    7119109\n2005-01-06   993.33   993.78   980.33   983.17    6288028\n2005-01-07   983.04   995.71   979.81   983.95    7298694\n2005-01-10   983.76   993.95   979.78   993.87    5791697\n...             ...      ...      ...      ...        ...\n2021-12-27  4918.15  4939.69  4894.16  4919.32  124100952\n2021-12-28  4923.69  4959.15  4913.60  4955.96  130457760\n2021-12-29  4958.65  4958.65  4883.48  4883.48  113587000\n2021-12-30  4882.16  4940.18  4878.65  4921.51  121617176\n2021-12-31  4937.46  4950.36  4923.14  4940.37  121313736\n\n[4132 rows x 5 columns]",
      "text/html": "<div>\n<style scoped>\n    .dataframe tbody tr th:only-of-type {\n        vertical-align: middle;\n    }\n\n    .dataframe tbody tr th {\n        vertical-align: top;\n    }\n\n    .dataframe thead th {\n        text-align: right;\n    }\n</style>\n<table border=\"1\" class=\"dataframe\">\n  <thead>\n    <tr style=\"text-align: right;\">\n      <th></th>\n      <th>Open</th>\n      <th>High</th>\n      <th>Low</th>\n      <th>Close</th>\n      <th>Vol</th>\n    </tr>\n    <tr>\n      <th>Date</th>\n      <th></th>\n      <th></th>\n      <th></th>\n      <th></th>\n      <th></th>\n    </tr>\n  </thead>\n  <tbody>\n    <tr>\n      <th>2005-01-04</th>\n      <td>994.76</td>\n      <td>994.76</td>\n      <td>980.65</td>\n      <td>982.79</td>\n      <td>7412869</td>\n    </tr>\n    <tr>\n      <th>2005-01-05</th>\n      <td>981.57</td>\n      <td>997.32</td>\n      <td>979.87</td>\n      <td>992.56</td>\n      <td>7119109</td>\n    </tr>\n    <tr>\n      <th>2005-01-06</th>\n      <td>993.33</td>\n      <td>993.78</td>\n      <td>980.33</td>\n      <td>983.17</td>\n      <td>6288028</td>\n    </tr>\n    <tr>\n      <th>2005-01-07</th>\n      <td>983.04</td>\n      <td>995.71</td>\n      <td>979.81</td>\n      <td>983.95</td>\n      <td>7298694</td>\n    </tr>\n    <tr>\n      <th>2005-01-10</th>\n      <td>983.76</td>\n      <td>993.95</td>\n      <td>979.78</td>\n      <td>993.87</td>\n      <td>5791697</td>\n    </tr>\n    <tr>\n      <th>...</th>\n      <td>...</td>\n      <td>...</td>\n      <td>...</td>\n      <td>...</td>\n      <td>...</td>\n    </tr>\n    <tr>\n      <th>2021-12-27</th>\n      <td>4918.15</td>\n      <td>4939.69</td>\n      <td>4894.16</td>\n      <td>4919.32</td>\n      <td>124100952</td>\n    </tr>\n    <tr>\n      <th>2021-12-28</th>\n      <td>4923.69</td>\n      <td>4959.15</td>\n      <td>4913.60</td>\n      <td>4955.96</td>\n      <td>130457760</td>\n    </tr>\n    <tr>\n      <th>2021-12-29</th>\n      <td>4958.65</td>\n      <td>4958.65</td>\n      <td>4883.48</td>\n      <td>4883.48</td>\n      <td>113587000</td>\n    </tr>\n    <tr>\n      <th>2021-12-30</th>\n      <td>4882.16</td>\n      <td>4940.18</td>\n      <td>4878.65</td>\n      <td>4921.51</td>\n      <td>121617176</td>\n    </tr>\n    <tr>\n      <th>2021-12-31</th>\n      <td>4937.46</td>\n      <td>4950.36</td>\n      <td>4923.14</td>\n      <td>4940.37</td>\n      <td>121313736</td>\n    </tr>\n  </tbody>\n</table>\n<p>4132 rows × 5 columns</p>\n</div>"
     },
     "execution_count": 8,
     "metadata": {},
     "output_type": "execute_result"
    }
   ],
   "source": [
    "df"
   ],
   "metadata": {
    "collapsed": false
   }
  },
  {
   "cell_type": "code",
   "execution_count": 10,
   "outputs": [
    {
     "ename": "KeyError",
     "evalue": "'2005-01-09'",
     "output_type": "error",
     "traceback": [
      "\u001B[0;31m---------------------------------------------------------------------------\u001B[0m",
      "\u001B[0;31mKeyError\u001B[0m                                  Traceback (most recent call last)",
      "File \u001B[0;32m~/opt/anaconda3/lib/python3.9/site-packages/pandas/_libs/index.pyx:548\u001B[0m, in \u001B[0;36mpandas._libs.index.DatetimeEngine.get_loc\u001B[0;34m()\u001B[0m\n",
      "File \u001B[0;32mpandas/_libs/hashtable_class_helper.pxi:2263\u001B[0m, in \u001B[0;36mpandas._libs.hashtable.Int64HashTable.get_item\u001B[0;34m()\u001B[0m\n",
      "File \u001B[0;32mpandas/_libs/hashtable_class_helper.pxi:2273\u001B[0m, in \u001B[0;36mpandas._libs.hashtable.Int64HashTable.get_item\u001B[0;34m()\u001B[0m\n",
      "\u001B[0;31mKeyError\u001B[0m: 1105228800000000000",
      "\nDuring handling of the above exception, another exception occurred:\n",
      "\u001B[0;31mKeyError\u001B[0m                                  Traceback (most recent call last)",
      "File \u001B[0;32m~/opt/anaconda3/lib/python3.9/site-packages/pandas/core/indexes/base.py:3800\u001B[0m, in \u001B[0;36mIndex.get_loc\u001B[0;34m(self, key, method, tolerance)\u001B[0m\n\u001B[1;32m   3799\u001B[0m \u001B[38;5;28;01mtry\u001B[39;00m:\n\u001B[0;32m-> 3800\u001B[0m     \u001B[38;5;28;01mreturn\u001B[39;00m \u001B[38;5;28;43mself\u001B[39;49m\u001B[38;5;241;43m.\u001B[39;49m\u001B[43m_engine\u001B[49m\u001B[38;5;241;43m.\u001B[39;49m\u001B[43mget_loc\u001B[49m\u001B[43m(\u001B[49m\u001B[43mcasted_key\u001B[49m\u001B[43m)\u001B[49m\n\u001B[1;32m   3801\u001B[0m \u001B[38;5;28;01mexcept\u001B[39;00m \u001B[38;5;167;01mKeyError\u001B[39;00m \u001B[38;5;28;01mas\u001B[39;00m err:\n",
      "File \u001B[0;32m~/opt/anaconda3/lib/python3.9/site-packages/pandas/_libs/index.pyx:516\u001B[0m, in \u001B[0;36mpandas._libs.index.DatetimeEngine.get_loc\u001B[0;34m()\u001B[0m\n",
      "File \u001B[0;32m~/opt/anaconda3/lib/python3.9/site-packages/pandas/_libs/index.pyx:550\u001B[0m, in \u001B[0;36mpandas._libs.index.DatetimeEngine.get_loc\u001B[0;34m()\u001B[0m\n",
      "\u001B[0;31mKeyError\u001B[0m: Timestamp('2005-01-09 00:00:00')",
      "\nThe above exception was the direct cause of the following exception:\n",
      "\u001B[0;31mKeyError\u001B[0m                                  Traceback (most recent call last)",
      "File \u001B[0;32m~/opt/anaconda3/lib/python3.9/site-packages/pandas/core/indexes/datetimes.py:739\u001B[0m, in \u001B[0;36mDatetimeIndex.get_loc\u001B[0;34m(self, key, method, tolerance)\u001B[0m\n\u001B[1;32m    738\u001B[0m \u001B[38;5;28;01mtry\u001B[39;00m:\n\u001B[0;32m--> 739\u001B[0m     \u001B[38;5;28;01mreturn\u001B[39;00m \u001B[43mIndex\u001B[49m\u001B[38;5;241;43m.\u001B[39;49m\u001B[43mget_loc\u001B[49m\u001B[43m(\u001B[49m\u001B[38;5;28;43mself\u001B[39;49m\u001B[43m,\u001B[49m\u001B[43m \u001B[49m\u001B[43mkey\u001B[49m\u001B[43m,\u001B[49m\u001B[43m \u001B[49m\u001B[43mmethod\u001B[49m\u001B[43m,\u001B[49m\u001B[43m \u001B[49m\u001B[43mtolerance\u001B[49m\u001B[43m)\u001B[49m\n\u001B[1;32m    740\u001B[0m \u001B[38;5;28;01mexcept\u001B[39;00m \u001B[38;5;167;01mKeyError\u001B[39;00m \u001B[38;5;28;01mas\u001B[39;00m err:\n",
      "File \u001B[0;32m~/opt/anaconda3/lib/python3.9/site-packages/pandas/core/indexes/base.py:3802\u001B[0m, in \u001B[0;36mIndex.get_loc\u001B[0;34m(self, key, method, tolerance)\u001B[0m\n\u001B[1;32m   3801\u001B[0m \u001B[38;5;28;01mexcept\u001B[39;00m \u001B[38;5;167;01mKeyError\u001B[39;00m \u001B[38;5;28;01mas\u001B[39;00m err:\n\u001B[0;32m-> 3802\u001B[0m     \u001B[38;5;28;01mraise\u001B[39;00m \u001B[38;5;167;01mKeyError\u001B[39;00m(key) \u001B[38;5;28;01mfrom\u001B[39;00m \u001B[38;5;21;01merr\u001B[39;00m\n\u001B[1;32m   3803\u001B[0m \u001B[38;5;28;01mexcept\u001B[39;00m \u001B[38;5;167;01mTypeError\u001B[39;00m:\n\u001B[1;32m   3804\u001B[0m     \u001B[38;5;66;03m# If we have a listlike key, _check_indexing_error will raise\u001B[39;00m\n\u001B[1;32m   3805\u001B[0m     \u001B[38;5;66;03m#  InvalidIndexError. Otherwise we fall through and re-raise\u001B[39;00m\n\u001B[1;32m   3806\u001B[0m     \u001B[38;5;66;03m#  the TypeError.\u001B[39;00m\n",
      "\u001B[0;31mKeyError\u001B[0m: Timestamp('2005-01-09 00:00:00')",
      "\nThe above exception was the direct cause of the following exception:\n",
      "\u001B[0;31mKeyError\u001B[0m                                  Traceback (most recent call last)",
      "Input \u001B[0;32mIn [10]\u001B[0m, in \u001B[0;36m<cell line: 1>\u001B[0;34m()\u001B[0m\n\u001B[0;32m----> 1\u001B[0m \u001B[43mdf\u001B[49m\u001B[38;5;241;43m.\u001B[39;49m\u001B[43mloc\u001B[49m\u001B[43m[\u001B[49m\u001B[38;5;124;43m'\u001B[39;49m\u001B[38;5;124;43m2005-01-09\u001B[39;49m\u001B[38;5;124;43m'\u001B[39;49m\u001B[43m]\u001B[49m\n",
      "File \u001B[0;32m~/opt/anaconda3/lib/python3.9/site-packages/pandas/core/indexing.py:1074\u001B[0m, in \u001B[0;36m_LocationIndexer.__getitem__\u001B[0;34m(self, key)\u001B[0m\n\u001B[1;32m   1071\u001B[0m axis \u001B[38;5;241m=\u001B[39m \u001B[38;5;28mself\u001B[39m\u001B[38;5;241m.\u001B[39maxis \u001B[38;5;129;01mor\u001B[39;00m \u001B[38;5;241m0\u001B[39m\n\u001B[1;32m   1073\u001B[0m maybe_callable \u001B[38;5;241m=\u001B[39m com\u001B[38;5;241m.\u001B[39mapply_if_callable(key, \u001B[38;5;28mself\u001B[39m\u001B[38;5;241m.\u001B[39mobj)\n\u001B[0;32m-> 1074\u001B[0m \u001B[38;5;28;01mreturn\u001B[39;00m \u001B[38;5;28;43mself\u001B[39;49m\u001B[38;5;241;43m.\u001B[39;49m\u001B[43m_getitem_axis\u001B[49m\u001B[43m(\u001B[49m\u001B[43mmaybe_callable\u001B[49m\u001B[43m,\u001B[49m\u001B[43m \u001B[49m\u001B[43maxis\u001B[49m\u001B[38;5;241;43m=\u001B[39;49m\u001B[43maxis\u001B[49m\u001B[43m)\u001B[49m\n",
      "File \u001B[0;32m~/opt/anaconda3/lib/python3.9/site-packages/pandas/core/indexing.py:1313\u001B[0m, in \u001B[0;36m_LocIndexer._getitem_axis\u001B[0;34m(self, key, axis)\u001B[0m\n\u001B[1;32m   1311\u001B[0m \u001B[38;5;66;03m# fall thru to straight lookup\u001B[39;00m\n\u001B[1;32m   1312\u001B[0m \u001B[38;5;28mself\u001B[39m\u001B[38;5;241m.\u001B[39m_validate_key(key, axis)\n\u001B[0;32m-> 1313\u001B[0m \u001B[38;5;28;01mreturn\u001B[39;00m \u001B[38;5;28;43mself\u001B[39;49m\u001B[38;5;241;43m.\u001B[39;49m\u001B[43m_get_label\u001B[49m\u001B[43m(\u001B[49m\u001B[43mkey\u001B[49m\u001B[43m,\u001B[49m\u001B[43m \u001B[49m\u001B[43maxis\u001B[49m\u001B[38;5;241;43m=\u001B[39;49m\u001B[43maxis\u001B[49m\u001B[43m)\u001B[49m\n",
      "File \u001B[0;32m~/opt/anaconda3/lib/python3.9/site-packages/pandas/core/indexing.py:1261\u001B[0m, in \u001B[0;36m_LocIndexer._get_label\u001B[0;34m(self, label, axis)\u001B[0m\n\u001B[1;32m   1259\u001B[0m \u001B[38;5;28;01mdef\u001B[39;00m \u001B[38;5;21m_get_label\u001B[39m(\u001B[38;5;28mself\u001B[39m, label, axis: \u001B[38;5;28mint\u001B[39m):\n\u001B[1;32m   1260\u001B[0m     \u001B[38;5;66;03m# GH#5567 this will fail if the label is not present in the axis.\u001B[39;00m\n\u001B[0;32m-> 1261\u001B[0m     \u001B[38;5;28;01mreturn\u001B[39;00m \u001B[38;5;28;43mself\u001B[39;49m\u001B[38;5;241;43m.\u001B[39;49m\u001B[43mobj\u001B[49m\u001B[38;5;241;43m.\u001B[39;49m\u001B[43mxs\u001B[49m\u001B[43m(\u001B[49m\u001B[43mlabel\u001B[49m\u001B[43m,\u001B[49m\u001B[43m \u001B[49m\u001B[43maxis\u001B[49m\u001B[38;5;241;43m=\u001B[39;49m\u001B[43maxis\u001B[49m\u001B[43m)\u001B[49m\n",
      "File \u001B[0;32m~/opt/anaconda3/lib/python3.9/site-packages/pandas/core/generic.py:4057\u001B[0m, in \u001B[0;36mNDFrame.xs\u001B[0;34m(self, key, axis, level, drop_level)\u001B[0m\n\u001B[1;32m   4055\u001B[0m             new_index \u001B[38;5;241m=\u001B[39m index[loc]\n\u001B[1;32m   4056\u001B[0m \u001B[38;5;28;01melse\u001B[39;00m:\n\u001B[0;32m-> 4057\u001B[0m     loc \u001B[38;5;241m=\u001B[39m \u001B[43mindex\u001B[49m\u001B[38;5;241;43m.\u001B[39;49m\u001B[43mget_loc\u001B[49m\u001B[43m(\u001B[49m\u001B[43mkey\u001B[49m\u001B[43m)\u001B[49m\n\u001B[1;32m   4059\u001B[0m     \u001B[38;5;28;01mif\u001B[39;00m \u001B[38;5;28misinstance\u001B[39m(loc, np\u001B[38;5;241m.\u001B[39mndarray):\n\u001B[1;32m   4060\u001B[0m         \u001B[38;5;28;01mif\u001B[39;00m loc\u001B[38;5;241m.\u001B[39mdtype \u001B[38;5;241m==\u001B[39m np\u001B[38;5;241m.\u001B[39mbool_:\n",
      "File \u001B[0;32m~/opt/anaconda3/lib/python3.9/site-packages/pandas/core/indexes/datetimes.py:741\u001B[0m, in \u001B[0;36mDatetimeIndex.get_loc\u001B[0;34m(self, key, method, tolerance)\u001B[0m\n\u001B[1;32m    739\u001B[0m     \u001B[38;5;28;01mreturn\u001B[39;00m Index\u001B[38;5;241m.\u001B[39mget_loc(\u001B[38;5;28mself\u001B[39m, key, method, tolerance)\n\u001B[1;32m    740\u001B[0m \u001B[38;5;28;01mexcept\u001B[39;00m \u001B[38;5;167;01mKeyError\u001B[39;00m \u001B[38;5;28;01mas\u001B[39;00m err:\n\u001B[0;32m--> 741\u001B[0m     \u001B[38;5;28;01mraise\u001B[39;00m \u001B[38;5;167;01mKeyError\u001B[39;00m(orig_key) \u001B[38;5;28;01mfrom\u001B[39;00m \u001B[38;5;21;01merr\u001B[39;00m\n",
      "\u001B[0;31mKeyError\u001B[0m: '2005-01-09'"
     ]
    }
   ],
   "source": [
    "df.loc['2005-01-09']"
   ],
   "metadata": {
    "collapsed": false
   }
  },
  {
   "cell_type": "code",
   "execution_count": 17,
   "outputs": [
    {
     "data": {
      "text/plain": "datetime.datetime(2005, 1, 9, 0, 0)"
     },
     "execution_count": 17,
     "metadata": {},
     "output_type": "execute_result"
    }
   ],
   "source": [
    "date = datetime.datetime.strptime('2005-01-09', '%Y-%m-%d')\n",
    "date"
   ],
   "metadata": {
    "collapsed": false
   }
  }
 ],
 "metadata": {
  "kernelspec": {
   "display_name": "Python 3",
   "language": "python",
   "name": "python3"
  },
  "language_info": {
   "codemirror_mode": {
    "name": "ipython",
    "version": 2
   },
   "file_extension": ".py",
   "mimetype": "text/x-python",
   "name": "python",
   "nbconvert_exporter": "python",
   "pygments_lexer": "ipython2",
   "version": "2.7.6"
  }
 },
 "nbformat": 4,
 "nbformat_minor": 0
}
